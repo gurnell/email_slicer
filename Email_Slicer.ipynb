{
 "cells": [
  {
   "cell_type": "markdown",
   "id": "d18c190c",
   "metadata": {},
   "source": [
    "## Email slicer project\n",
    "#### My first python project\n",
    "A simple tool that will take an email address as input and slice it to produce the username and the associated domain name.\n",
    "For this project we will use **input()** method that asks the user for input, **strip()** method that removes any leading and trailing characters(spaces included), **index()** that returns the position at the first occurrence of specified values, **f-string** that will allow us to directly place our variables in the output string and **print()** function."
   ]
  },
  {
   "cell_type": "code",
   "execution_count": 1,
   "id": "9825ceae",
   "metadata": {},
   "outputs": [
    {
     "name": "stdout",
     "output_type": "stream",
     "text": [
      "Enter Your Email: guowili16@gmail.com\n",
      "Your username is guowili16 & domain is gmail.com\n"
     ]
    }
   ],
   "source": [
    "# ask the user to enter email to be sliced\n",
    "email = input(\"Enter Your Email: \").strip()\n",
    "\n",
    "#slice the user input to obtain username and domain\n",
    "username = email[:email.index('@')]\n",
    "domain = email[email.index('@') + 1:]\n",
    "\n",
    "#print the output\n",
    "print(f\"Your username is {username} & domain is {domain}\")"
   ]
  },
  {
   "cell_type": "code",
   "execution_count": null,
   "id": "3a5b1331",
   "metadata": {},
   "outputs": [],
   "source": []
  }
 ],
 "metadata": {
  "kernelspec": {
   "display_name": "Python 3 (ipykernel)",
   "language": "python",
   "name": "python3"
  },
  "language_info": {
   "codemirror_mode": {
    "name": "ipython",
    "version": 3
   },
   "file_extension": ".py",
   "mimetype": "text/x-python",
   "name": "python",
   "nbconvert_exporter": "python",
   "pygments_lexer": "ipython3",
   "version": "3.9.7"
  }
 },
 "nbformat": 4,
 "nbformat_minor": 5
}
